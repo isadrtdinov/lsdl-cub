{
 "cells": [
  {
   "cell_type": "markdown",
   "id": "b549e444-bb68-4ad9-9f84-97c2a47a1b3e",
   "metadata": {},
   "source": [
    "## Seminar 10. Retrieval‑Augmented Generation (RAG)\n",
    "\n",
    "In this seminar we will make an LLM assistant that can answer arbitrary questions about films in Russian. For this we will use RAG and a dataset with reviews from Kinopoisk.\n",
    "\n",
    "### Agenda\n",
    "\n",
    "1. How does the model perform without RAG?\n",
    "1. Building a RAG on feedback\n",
    "1. Reranker\n",
    "1. Multi-Query\n",
    "1. Filtering by meta-information"
   ]
  },
  {
   "cell_type": "code",
   "execution_count": 25,
   "id": "ff2e0ac6-83d3-419b-a01d-110cc40cd8b1",
   "metadata": {},
   "outputs": [],
   "source": [
    "import numpy as np\n",
    "import uuid\n",
    "from tqdm.auto import tqdm"
   ]
  },
  {
   "cell_type": "markdown",
   "id": "83786d0e",
   "metadata": {},
   "source": [
    "### Dataset and model\n",
    "\n",
    "We will download our [dataset](https://huggingface.co/datasets/blinoff/kinopoisk) from HugingFace Hub. It contains over 35.000 user reviews of various films."
   ]
  },
  {
   "cell_type": "code",
   "execution_count": 45,
   "id": "81664b96-5024-4340-8474-e4d120d8f7e1",
   "metadata": {},
   "outputs": [
    {
     "data": {
      "application/vnd.jupyter.widget-view+json": {
       "model_id": "93939b07439b437b91b0570e8bb04ceb",
       "version_major": 2,
       "version_minor": 0
      },
      "text/plain": [
       "README.md:   0%|          | 0.00/1.31k [00:00<?, ?B/s]"
      ]
     },
     "metadata": {},
     "output_type": "display_data"
    },
    {
     "data": {
      "application/vnd.jupyter.widget-view+json": {
       "model_id": "186f1b1d11624cd48c0b5e9da86cb09c",
       "version_major": 2,
       "version_minor": 0
      },
      "text/plain": [
       "kinopoisk.jsonl:   0%|          | 0.00/143M [00:00<?, ?B/s]"
      ]
     },
     "metadata": {},
     "output_type": "display_data"
    },
    {
     "data": {
      "application/vnd.jupyter.widget-view+json": {
       "model_id": "689a2fc3238841b184b0a53818f1833d",
       "version_major": 2,
       "version_minor": 0
      },
      "text/plain": [
       "Generating train split:   0%|          | 0/36591 [00:00<?, ? examples/s]"
      ]
     },
     "metadata": {},
     "output_type": "display_data"
    },
    {
     "data": {
      "application/vnd.jupyter.widget-view+json": {
       "model_id": "3dc363175b524d8fb5741db6d9c61cfa",
       "version_major": 2,
       "version_minor": 0
      },
      "text/plain": [
       "Map:   0%|          | 0/36591 [00:00<?, ? examples/s]"
      ]
     },
     "metadata": {},
     "output_type": "display_data"
    }
   ],
   "source": [
    "from datasets import load_dataset\n",
    "\n",
    "def process_dataset(sample):\n",
    "    sample['content'] = sample['content'].replace('\\xa0', ' ')\n",
    "    return sample\n",
    "\n",
    "dataset = load_dataset(\"blinoff/kinopoisk\")['train']\n",
    "dataset = dataset.map(process_dataset)"
   ]
  },
  {
   "cell_type": "code",
   "execution_count": 46,
   "id": "4e8d974b-130c-40cc-a0ff-562f8e1a426e",
   "metadata": {},
   "outputs": [
    {
     "data": {
      "text/plain": [
       "Dataset({\n",
       "    features: ['part', 'movie_name', 'review_id', 'author', 'date', 'title', 'grade3', 'grade10', 'content'],\n",
       "    num_rows: 36591\n",
       "})"
      ]
     },
     "execution_count": 46,
     "metadata": {},
     "output_type": "execute_result"
    }
   ],
   "source": [
    "dataset"
   ]
  },
  {
   "cell_type": "code",
   "execution_count": 47,
   "id": "ec1bbb4d-bebe-4a7b-8be3-2d6392f2f454",
   "metadata": {},
   "outputs": [
    {
     "data": {
      "text/plain": [
       "'Блеф (1976)'"
      ]
     },
     "execution_count": 47,
     "metadata": {},
     "output_type": "execute_result"
    }
   ],
   "source": [
    "dataset[0]['movie_name']"
   ]
  },
  {
   "cell_type": "code",
   "execution_count": 48,
   "id": "690b6bb2-6f69-4592-8c6b-9cf1574c9e0b",
   "metadata": {},
   "outputs": [
    {
     "data": {
      "text/plain": [
       "'\\n\"Блеф» — одна из моих самых любимых комедий.\\n\\nЭтот фильм я наверно смотрел раз сто, нет я конечно блефую, я видел его куда больше. Не могу не выразить своё восхищение главными действующими лицами этого фильма. Начну с Адриано Челентано для которого как я считаю это лучшая роль в кино. Великолепный актёр, неплохой певец, странно что на его родине в Италии его песни мало кто слушает. Ну я думаю что и итальянцы и французы привыкли к тому, что у нас до сих их актёры популярней чем даже на своей родине. Да, такой вот парадокс. Челентано конечно профессионал своего дела, комик с серьёзным выражением лица. Он смешон ещё и потому, что одновременно так серъёзен. Адриано браво!\\n\\nА теперь несколько слов об Энтони Куине. Да тот самый горбун из Нотр-дама. Собор Парижской Богоматери, оригинальная версия, кто не смотрел рекомендую. С ним как-то приключилась одна интересная история. На съёмках одного из своих фильмов он то ли сломал, то ли подвихнул ногу, а роль требовала от него чтобы в одной из сцен он кружился с дамой в танце. И он вместе со съёмочным коллективом вышел из этого положения. Они сделали вращающеюся платформу, которая создавала видимость того, что он весь в ритме танца. Вот такая вот история, к слову об этом замечательном актёре.\\n\\nНу и теперь сам фильм, жанр которой можно смело обозвать авантюрой. Комедийной авантюрой. Некая Белль Дьюк, весьма влиятельная дама, пытается освободить своего старого знакомого авантюриста Филиппа Бенга, у которого с ней давние счёты. Но вместо него на свободе оказывается другой комбинатор-аферист по имени Феликс. И чтобы не быть битым головорезами Белль Дьюк, он уже сам разрабатывает план побега Бэнга. После того как они встречаются череда смешных сцен заставит зрителя разразиться шквальным смехом. В их умений блефовать, им просто нет равных. Главное правило чтобы блеф сработал, надо самому в него поверить. Помимо всего этого они ещё и соревнуются в стратегий блефа. Некоторые сцены их обмана запомнились мне надолго, особенно сцена в магазине тканей: \\n\\n — Привет старина. Так тебя выпустили из лепрозория?\\n — Не совсем, я оттуда сбежал.\\n\\nНу или финальная сцена, которую можно охарактеризовать тремя словами; смех сквозь слёзы.\\n\\nВ завершении скажу, что это великолепное кино можно смотреть и пересматривать очень много раз, и оно не потеряет своего шарма и обаяния.\\n\\n10 из 10'"
      ]
     },
     "execution_count": 48,
     "metadata": {},
     "output_type": "execute_result"
    }
   ],
   "source": [
    "dataset[0]['content']"
   ]
  },
  {
   "cell_type": "markdown",
   "id": "bdeabe13",
   "metadata": {},
   "source": [
    "We will perform all experiments with the model [`Qwen/Qwen2-1.5B-Instruct`](https://huggingface.co/Qwen/Qwen2-1.5B-Instruct). This is a GPT-based question-answer model that has been trained in a large number of languages, including Russian."
   ]
  },
  {
   "cell_type": "code",
   "execution_count": 3,
   "id": "ba3c508d-7db6-424a-94c5-2bfd85ee497a",
   "metadata": {},
   "outputs": [
    {
     "name": "stderr",
     "output_type": "stream",
     "text": [
      "Special tokens have been added in the vocabulary, make sure the associated word embeddings are fine-tuned or trained.\n"
     ]
    }
   ],
   "source": [
    "from transformers import pipeline\n",
    "import torch\n",
    "\n",
    "device = torch.device('cuda' if torch.cuda.is_available() else 'cpu')\n",
    "\n",
    "generation_pipeline = pipeline(\n",
    "    \"text-generation\",\n",
    "    model=\"Qwen/Qwen2-1.5B-Instruct\",\n",
    "    device=device,\n",
    "    torch_dtype=torch.float16\n",
    ")"
   ]
  },
  {
   "cell_type": "markdown",
   "id": "bc3757d8-302a-4bb3-9b26-a64fcf19bb0c",
   "metadata": {},
   "source": [
    "## Generation without RAG\n",
    "\n",
    "Let's check how well the model answers the questions without using RAG."
   ]
  },
  {
   "cell_type": "code",
   "execution_count": 291,
   "id": "0f9c1881-7432-4107-aa14-a0473b594ace",
   "metadata": {},
   "outputs": [],
   "source": [
    "query = 'В каких пяти фильмах играл Роберт де Ниро?'"
   ]
  },
  {
   "cell_type": "code",
   "execution_count": 260,
   "id": "cac986bb-1580-4b3e-b991-57d624f5224d",
   "metadata": {},
   "outputs": [
    {
     "name": "stdout",
     "output_type": "stream",
     "text": [
      "Роберт Де Ниро сыграл в следующих пяти фильмах:\n",
      "\n",
      "1. \"Богемская революция\" (1968)\n",
      "2. \"Терминатор\" (1984)\n",
      "3. \"Леон: Охотник на дичь\" (1994)\n",
      "4. \"Американский квадрип\" (1995)\n",
      "5. \"Суони\" (2019)\n"
     ]
    }
   ],
   "source": [
    "messages = [\n",
    "    {\"role\": \"user\", \"content\": query},\n",
    "]\n",
    "output = generation_pipeline(messages, max_new_tokens=256, do_sample=True, temperature=0.9, top_p=0.7)\n",
    "\n",
    "answer = output[0]['generated_text'][1]['content']\n",
    "\n",
    "print(answer)"
   ]
  },
  {
   "cell_type": "markdown",
   "id": "a0e7f988",
   "metadata": {},
   "source": [
    "We see that the knowledge of the model is lacking. All names, except Terminator, refer to non-existent films, and Robert De Niro did not play in Terminator."
   ]
  },
  {
   "cell_type": "markdown",
   "id": "e06d624e-df92-4731-8c9b-939a59d6b8f4",
   "metadata": {},
   "source": [
    "##  Retrieval‑Augmented Generation\n",
    "\n",
    "Let's try to improve the model quality using RAG. To do this, we first need to compose a vector database. As an embedding model we will use [`intfloat/multilingual-e5-large`](https://huggingface.co/intfloat/multilingual-e5-large). This is a large multilingual model based on Transformer's Encoder."
   ]
  },
  {
   "cell_type": "code",
   "execution_count": 263,
   "id": "1294bc8f-6925-480c-805f-cd77e6b86ec0",
   "metadata": {},
   "outputs": [],
   "source": [
    "from sentence_transformers import SentenceTransformer\n",
    "\n",
    "embedding_model = SentenceTransformer(\"intfloat/multilingual-e5-large\", model_kwargs={'torch_dtype': torch.float16})"
   ]
  },
  {
   "cell_type": "markdown",
   "id": "545df4a1",
   "metadata": {},
   "source": [
    "We will build our database based on the tool [`Qdrant`](https://github.com/qdrant/qdrant-client). It implements various methods for text searching, so we don't have to write anything by hand. It is enough to provide it with text embeddings."
   ]
  },
  {
   "cell_type": "code",
   "execution_count": null,
   "id": "e2739054-cf96-4873-a382-5c6e19f1de14",
   "metadata": {},
   "outputs": [],
   "source": [
    "from qdrant_client import QdrantClient, models\n",
    "\n",
    "client = QdrantClient(\":memory:\")\n",
    "\n",
    "client.create_collection(\n",
    "    collection_name=\"kinopoisk_e5\",\n",
    "    on_disk_payload=True,\n",
    "    vectors_config=models.VectorParams(\n",
    "        size=1024,\n",
    "        distance=models.Distance.COSINE,\n",
    "        on_disk=True\n",
    "    ),\n",
    ")"
   ]
  },
  {
   "cell_type": "markdown",
   "id": "9e98b698",
   "metadata": {},
   "source": [
    "To split text into chunks, we use `RecursiveCharacterTextSplitter` from the [`langchain`](https://github.com/langchain-ai/langchain) library. We will recursively split the text into chunks of about 1000 characters."
   ]
  },
  {
   "cell_type": "code",
   "execution_count": null,
   "id": "fdbac0dc-489d-4dfb-871a-ecc6d5b594e0",
   "metadata": {},
   "outputs": [],
   "source": [
    "from langchain.text_splitter import RecursiveCharacterTextSplitter\n",
    "\n",
    "text_splitter = RecursiveCharacterTextSplitter(chunk_size=1000, chunk_overlap=100)"
   ]
  },
  {
   "cell_type": "markdown",
   "id": "7db7e117",
   "metadata": {},
   "source": [
    "Assembling a vector database."
   ]
  },
  {
   "cell_type": "code",
   "execution_count": null,
   "id": "e1c395a0-74a7-4d03-82f7-e9046ba494d5",
   "metadata": {},
   "outputs": [],
   "source": [
    "for i in tqdm(range(len(dataset))):\n",
    "    text_chunks = text_splitter.split_text(dataset[i]['content'])\n",
    "\n",
    "    vectors = embedding_model.encode(text_chunks, normalize_embeddings=True, device=device).tolist()\n",
    "\n",
    "    client.upsert(\n",
    "        collection_name='kinopoisk_e5',\n",
    "        points=[\n",
    "            models.PointStruct(\n",
    "                id=str(uuid.uuid4()),\n",
    "                vector=vectors[j],\n",
    "                payload={\n",
    "                    'text': text_chunks[j],\n",
    "                    'movie_name': dataset[i]['movie_name'][:-7],\n",
    "                    'year': int(dataset[i]['movie_name'][-5:-1]),\n",
    "                }\n",
    "            )\n",
    "            for j in range(len(text_chunks))\n",
    "        ]\n",
    "    )"
   ]
  },
  {
   "cell_type": "markdown",
   "id": "4971eca1",
   "metadata": {},
   "source": [
    "Let's check how well we can find similar texts."
   ]
  },
  {
   "cell_type": "code",
   "execution_count": null,
   "id": "331bcdd9-f4ad-4840-92a3-239e7694861a",
   "metadata": {},
   "outputs": [],
   "source": [
    "query_vector = embedding_model.encode(query, normalize_embeddings=True, device=device).tolist()"
   ]
  },
  {
   "cell_type": "code",
   "execution_count": 215,
   "id": "33c187d4-26d9-4ef3-85d1-d7258bb5bf7d",
   "metadata": {},
   "outputs": [],
   "source": [
    "hits = client.search(\n",
    "    collection_name=\"kinopoisk_e5\",\n",
    "    query_vector=query_vector,\n",
    "    limit=5\n",
    ")"
   ]
  },
  {
   "cell_type": "code",
   "execution_count": 216,
   "id": "7746288d-47ce-4e29-bf5d-ad143db5247e",
   "metadata": {},
   "outputs": [
    {
     "data": {
      "text/plain": [
       "[{'text': 'Хороший фильм. На реальных событиях. Игра де Ниро восхищает. Робин Уильямс как обычно смешной и трагический.',\n",
       "  'movie_name': 'Пробуждение',\n",
       "  'year': 1990},\n",
       " {'text': 'Потрясающий фильм. Великолепная игра Роберта Де Ниро. Изумительная по красоте и, как нельзя подходящая к этой кинокартине, музыка Эннио Морриконе. Этот шедевр стоит того, чтобы смотреть и смотреть не один раз.',\n",
       "  'movie_name': 'Однажды в Америке',\n",
       "  'year': 1983},\n",
       " {'text': 'После долгих и продуктивных лет работы в качестве актера, Роберт де Ниро решил попробовать себя и в режиссерском поприще. Первый фильм этого гениального человека собрал в Америке больше 17 миллионов долларов. Интригующее повествование о судьбе обычного молодого парня, которому предстоит сделать самый важный шаг в своей жизни и, тем самым выбрать свой дальнейший путь существования, пришлось зрителю по душе. Семейная драма то и дело перекрикивается с гангстерским эпосом, и это делает фильм просто уникальным. Добавьте сюда щепотку романтики и незабываемые прелести первой любви — и фильм обречен на успех и зрительскую симпатию',\n",
       "  'movie_name': 'Бронкская история',\n",
       "  'year': 1993},\n",
       " {'text': 'Роберт де Ниро сыграл потрясающую роль, передал всю боль, все счастье, все отчаяние больного.\\n\\nЭтот фильм должен посмотреть каждый. Возможно, кто-то сможет «пробудиться» к настоящей жизни.\\n\\n9 из 10',\n",
       "  'movie_name': 'Пробуждение',\n",
       "  'year': 1990},\n",
       " {'text': 'Один из лучших боевиков увиденных мною. Когда играют такие актеры, шансы, что фильм получится плохим, приравниваются к нулю.\\n\\nБольше всего мне понравилась игра Роберта Де Ниро, который находится на грани добра и зла. А чего только стоит сцена перестрелки после ограбления банка.\\n\\n10 из 10',\n",
       "  'movie_name': 'Схватка',\n",
       "  'year': 1995}]"
      ]
     },
     "execution_count": 216,
     "metadata": {},
     "output_type": "execute_result"
    }
   ],
   "source": [
    "[hit.payload for hit in hits]"
   ]
  },
  {
   "cell_type": "markdown",
   "id": "24f87c93",
   "metadata": {},
   "source": [
    "Great! All the retrieved texts are related to Robert De Niro. Now let's wrap this search process in a function."
   ]
  },
  {
   "cell_type": "code",
   "execution_count": 242,
   "id": "cc8a52f1-3769-4b93-b78d-64f6e30e5321",
   "metadata": {},
   "outputs": [],
   "source": [
    "def semantic_search(client, query, limit=10):\n",
    "    query_vector = embedding_model.encode(\n",
    "        query, normalize_embeddings=True, device=device\n",
    "    ).tolist()\n",
    "\n",
    "    hits = client.search(\n",
    "        collection_name=\"kinopoisk_e5\",\n",
    "        query_vector=query_vector,\n",
    "        limit=limit\n",
    "    )\n",
    "    relevant_chunks = [hit.payload for hit in hits]\n",
    "\n",
    "    return relevant_chunks"
   ]
  },
  {
   "cell_type": "markdown",
   "id": "896de04e-39b6-480d-a57d-278b02cbf142",
   "metadata": {},
   "source": [
    "### RAG on reviews\n",
    "\n",
    "To implement RAG, we will pass the feedback relevant to the query into the context of the model."
   ]
  },
  {
   "cell_type": "code",
   "execution_count": 264,
   "id": "86f361e1-5eab-4cdc-b96b-2a85abb37413",
   "metadata": {},
   "outputs": [],
   "source": [
    "def llm_answer(query, context):\n",
    "    prompt = f\"\"\"\n",
    "    Ты русскоязычный эксперт в области кинематографа. У тебя есть доступ к набору отзывов о фильмах, используй их, чтобы полно и точно ответить на следующий вопрос. Убедись, что ответ подробный, конкретный и непосредственно касается вопроса. Не добавляй информацию, которая не подтверждается предоставленными отзывами.\n",
    "\n",
    "Вопрос:\n",
    "{query}\n",
    "\n",
    "Отзывы:\n",
    "{context}\n",
    "\"\"\"\n",
    "    messages = [\n",
    "        {\"role\": \"user\", \"content\": prompt},\n",
    "    ]\n",
    "    output = generation_pipeline(messages, max_new_tokens=512, do_sample=True, temperature=0.9, top_p=0.7)\n",
    "\n",
    "    return output[0]['generated_text'][1]['content']"
   ]
  },
  {
   "cell_type": "code",
   "execution_count": 274,
   "id": "5ee98216-deff-4d17-9266-5d62d904055b",
   "metadata": {},
   "outputs": [],
   "source": [
    "def predict(query):\n",
    "    selected_chunks = semantic_search(client, query)\n",
    "    context = ' ; '.join([f\"Отзыв: {chunk['text']}\" for chunk in selected_chunks])\n",
    "\n",
    "    return llm_answer(query, context)"
   ]
  },
  {
   "cell_type": "code",
   "execution_count": 276,
   "id": "d7995e71-409a-4385-a9c6-0b181fd2e48e",
   "metadata": {},
   "outputs": [
    {
     "name": "stdout",
     "output_type": "stream",
     "text": [
      "Роберт де Ниро играл в следующих пяти фильмах:\n",
      "\n",
      "1. \"Загадочный человек\" (The Departed)\n",
      "2. \"Огонь\" (Heat)\n",
      "3. \"Тайны семьи\" (The Departed)\n",
      "4. \"Алиса в стране чудес\" (Alice in Wonderland)\n",
      "5. \"Мстители\" (Captain America: Civil War)\n"
     ]
    }
   ],
   "source": [
    "print(predict(query))"
   ]
  },
  {
   "cell_type": "markdown",
   "id": "a9097755",
   "metadata": {},
   "source": [
    "Despite the added context, the results aren't good. The thing is that reviews very rarely contain the movie titles themselves. Let's try to add titles to the context as well."
   ]
  },
  {
   "cell_type": "markdown",
   "id": "b4b63377-407d-4177-806f-b6edd925a802",
   "metadata": {},
   "source": [
    "### Adding movie titles"
   ]
  },
  {
   "cell_type": "code",
   "execution_count": 268,
   "id": "45d76c3b-0a4b-40fa-aec4-df70e7cc5753",
   "metadata": {},
   "outputs": [],
   "source": [
    "def predict(query):\n",
    "    selected_chunks = semantic_search(client, query)\n",
    "    context = ' ; '.join([f\"Название: {chunk['movie_name']}. Отзыв: {chunk['text']}\" for chunk in selected_chunks])\n",
    "\n",
    "    return llm_answer(query, context)"
   ]
  },
  {
   "cell_type": "code",
   "execution_count": 269,
   "id": "172c9bc0-1b66-46ef-9046-7bae52ebab6d",
   "metadata": {},
   "outputs": [
    {
     "name": "stdout",
     "output_type": "stream",
     "text": [
      "Роберт де Ниро играл в следующих пяти фильмах:\n",
      "\n",
      "1. Пробуждение (2006) - отзыв: \"Хороший фильм. На реальных событиях. Игра де Ниро восхищает. Робин Уильямс как обычно смешной и трагический.\"\n",
      "2. Однажды в Америке (1999) - отзыв: \"Уникальный фильм. Игра Роберта Де Ниро не может не вызвать восхищения. Он действительно великолепен.\"\n",
      "3. Пробуждение (2006) - отзыв: \"Фильм о пробуждении души того человека, который пробудил физически больных 'хроников'.\"\n",
      "4. Бронкская история (2005) - отзыв: \"Богатейший актерский опыт Роберта Де Ниро с такими авторитетными режиссерами криминальных драм как Мартин Скорцезе, Брайан Де Пальма, Френсис Форд Коппола просто не мог пройти даром. И талантливый актер сделал не менее изящный, подобно десятку своих ролей, режиссерский дебют картиной 'Бронкская история'.\"\n",
      "5. Схватка (2001) - отзыв: \"Отдельно стоит упомянуть два эпизода фильма — перестрелку на улице и финальную разборку Аль Пачино с Де Ниро. Это действительно круто. Как в самом крутом боевике.\"\n"
     ]
    }
   ],
   "source": [
    "print(predict(query))"
   ]
  },
  {
   "cell_type": "markdown",
   "id": "5cc07ece",
   "metadata": {},
   "source": [
    "Now the model prints all the movies that Robert De Niro actually acted in."
   ]
  },
  {
   "attachments": {},
   "cell_type": "markdown",
   "id": "4cf3a074-c3f3-4e77-ae11-309c21d67bf8",
   "metadata": {},
   "source": [
    "## Reranker\n",
    "\n",
    "Let's try to improve the method by adding reranking.\n",
    "\n",
    "<img src=\"https://2.downloader.disk.yandex.ru/preview/562f6ca63a4c9c167c7104adcb69038c62397d1ff7dd746ef264d65aa149d797/inf/WyZ1fToxI4Te6PT0CXKY6FgaekwIOFx7YP6UyIKPqW4IbXlkBZs3XoE4BLVVAGicFSVd-q4LT1GZtOApSPvsUA%3D%3D?uid=676720824&filename=reranker.png&disposition=inline&hash=&limit=0&content_type=image%2Fpng&owner_uid=676720824&tknv=v2&size=3024x1688\" alt=\"drawing\" width=\"700\"/>\n",
    "\n",
    "Reranker is a language model that takes two texts and returns the proximity between them.\n",
    "\n",
    "<img src=\"https://4.downloader.disk.yandex.ru/preview/33e900424814cb2806c8f6a00cd39642d4ef85610beb7eb8b0b3c69aedac59c5/inf/wrfaZRuiUUopUMh223NnlEQlalUZHKqP6BDrYSkm2KX9gJHGkcE-HKvmT6z42V_6s6WvDU_hpBb67l0nllK5Ng%3D%3D?uid=676720824&filename=reranker_arch.png&disposition=inline&hash=&limit=0&content_type=image%2Fpng&owner_uid=676720824&tknv=v2&size=3024x1688\" alt=\"drawing\" width=\"200\"/>\n",
    "\n",
    "As a reranker, we will use a special multi-language model trained for this purpose [`amberoad/bert-multilingual-passage-reranking-msmarco`](https://huggingface.co/amberoad/bert-multilingual-passage-reranking-msmarco)."
   ]
  },
  {
   "cell_type": "code",
   "execution_count": 277,
   "id": "92536773-bbd5-4c96-8e52-ec324b80f86d",
   "metadata": {},
   "outputs": [],
   "source": [
    "from langchain_community.cross_encoders import HuggingFaceCrossEncoder"
   ]
  },
  {
   "cell_type": "code",
   "execution_count": 278,
   "id": "78d507ea-228d-4ac9-8a0f-2f4cf31e15a6",
   "metadata": {},
   "outputs": [
    {
     "data": {
      "text/plain": [
       "167357954"
      ]
     },
     "execution_count": 278,
     "metadata": {},
     "output_type": "execute_result"
    }
   ],
   "source": [
    "cross_encoder = HuggingFaceCrossEncoder(\n",
    "    model_name='amberoad/bert-multilingual-passage-reranking-msmarco',\n",
    "    model_kwargs={'device': 'cpu'}\n",
    ")\n",
    "sum([p.numel() for p in cross_encoder.client.model.parameters()])"
   ]
  },
  {
   "cell_type": "code",
   "execution_count": 304,
   "id": "eccfa5f2-f812-4eaa-b811-357d590d1fd8",
   "metadata": {},
   "outputs": [],
   "source": [
    "def predict(query):\n",
    "    selected_chunks = semantic_search(client, query, limit=50)\n",
    "\n",
    "    texts = [f\"Название: {chunk['movie_name']}. Отзыв: {chunk['text']}\" for chunk in selected_chunks]\n",
    "    scores = cross_encoder.score([(query, text) for text in texts])\n",
    "\n",
    "    idxs = np.argsort(list(scores))[-10:]\n",
    "\n",
    "    context = ' ; '.join([texts[i] for i in idxs])\n",
    "    return llm_answer(query, context), context"
   ]
  },
  {
   "cell_type": "code",
   "execution_count": 305,
   "id": "c2411374-b2ed-410d-816c-49a21ba15cbd",
   "metadata": {},
   "outputs": [
    {
     "name": "stdout",
     "output_type": "stream",
     "text": [
      "В фильмах, в которых играл Роберт де Ниро:\n",
      "\n",
      "1. Бронкская история\n",
      "2. Однажды в Америке \n",
      "3. Пробуждение\n",
      "4. Военный ныряльщик\n",
      "5. Крестный отец 2\n"
     ]
    }
   ],
   "source": [
    "answer, context = predict(query)\n",
    "\n",
    "print(answer)"
   ]
  },
  {
   "cell_type": "markdown",
   "id": "c93300bc",
   "metadata": {},
   "source": [
    "It did get a little better."
   ]
  },
  {
   "cell_type": "code",
   "execution_count": 306,
   "id": "f16baa24-398f-47f7-9d8a-d124bc7bc557",
   "metadata": {},
   "outputs": [
    {
     "data": {
      "text/plain": [
       "['Название: Бронкская история. Отзыв: Богатейший актерский опыт Роберта Де Ниро с такими авторитетными режиссерами криминальных драм как Мартин Скорцезе, Брайан Де Пальма, Френсис Форд Коппола просто не мог пройти даром. И талантливый актер сделал не менее изящный, подобно десятку своих ролей, режиссерский дебют картиной «Бронкская история».\\n\\nСыграв также одну из второстепенных ролей, Роберт Де Ниро подарил необычный ему образ правильного и положительного героя, который из всех сил пытается вырастить в своем сыне мужество и справедливость. Ровно, как и герой Чазза Пальминтери, «крестного отца» итальянского квартала, которого, собственно больше боятся, чем любят. \\n\\nНо и герой Чазза Пальминтери по-своему прав, взяв на воспитание сына Лоренцо, он не утаивает сложность своего места под солнцем, и учит молодого парня в двух направлениях — школы и улицы одновременно.',\n",
       " 'Название: Однажды в Америке. Отзыв: Естественно вы из всего вышеперечисленного не поймете, почему этот фильм настолько потрясающ. Весь ШИК там в том, что это просто надо видеть, чувствовать, сопереживать, понимать, в общем, все то чем некоторые не очень любят заниматься.\\n\\nРоберт Де Ниро. Многие могут со мной не соглашаться, но Де Ниро потрясающе играет Лапшу. Играет потрясающе и в зрелости и в старости, он спокоен, но в то же время может так рассвирепеть, что мало никому не покажется. Смотря как Де Ниро играет Лапшу понимаешь, что невозможно представить никого другого в этой роли.\\n\\nДжеймс Вудс. А вот насчет этого замечательного актера практически все единодушны во мнении, что Макс у Джеймса Вудса получился просто великолепный. Он настолько шикарно играет Макса, что ему не просто ВЕРИШЬ, а ВЕРИШЬ ПОЛНОСТЬЮ. Макс просто великолепен, он умен, хитер, расчетлив, в чем-то притягательный, в чем-то отталкивающий. Вудс гениален в роли Макса.',\n",
       " 'Название: Бронкская история. Отзыв: Великолепная криминальная драма, которая познакомила нас с увлекательной историей о жизни людей в эпоху расцвета преступного мира в США. Культовый фильм, снятый непревзойденным Робертом де Ниро\\n\\n9 из 10',\n",
       " 'Название: Военный ныряльщик. Отзыв: Фильм очень понравился, Роберт Де Ниро сыграл свою роль на высшем уровне.\\n\\nЦветной(Куба Гудинг) стремился стать ныряльщиком, он с детства любил плавать.\\n\\nРоберт Де Ниро сыграл роль строгого ботсмана, когда он попал в школу водолазов он выжимал все соки с учеников, он считал себя лучшим водолазом и требовал от учеников то же самое.\\n\\nФильм считаю сильным и отличным.\\n\\nМоя оценка 10/10',\n",
       " 'Название: Пробуждение. Отзыв: Роберт Де Ниро. Хочется выделить отдельно. Он так же бесподобен как и все, но…\\n\\nНасколько же нетипична для него такая роль(по крайней мере для меня). Когда я понял что он будет играть одного из пациентов то насторожился, все-таки я привык к Де Ниро-гангстеру в многочисленных фильмах, он же молодой дон Корлеоне в конце концов, а тут вдруг пациент неврологической клинике. Но лишний раз получил подтверждение что талант есть талант. Он столь же убедителен в роли человека с ограниченными возможностями, как и в роли гангстера. Хотя в эпизоде где его посадили в карцер, для буйных и он начал диктовать свои условия врачам и заручился поддержкой остальных больных у меня сразу мелькнула мысль — вот они бандитские корни, и тут умудрился банду сколотить. В общем весь фильм получал огромнейшее удовольствие от его игры, она меня заинтриговала не меньше чем сюжет фильма.',\n",
       " 'Название: Однажды в Америке. Отзыв: Роберт Де Ниро один из моих любимых актеров. «Лапша» — один из лучших его образов. Сыграл он просто замечательно. Он лучший итальяно-американский актер. Ему мафиози (или прочих преступников) с рождения дано играть! Ах, да, чуть не забыл упомянуть не менее талантливого актера Джеймса Вудса, сыгравшего роль «Макса». Если честно, мне его была очень жалко. Финальная сцена фильма, где происходит решающий разговор между «Лапшой» и «Максом» просто гениальна, актеры превзошли самих себя.',\n",
       " 'Название: Бронкская история. Отзыв: Только жалеть приходится о том, что Де Ниро так редко выступает в амплуа режиссера. Потому что каждый из трех сделанных им фильмов заслуживает самого пристального внимания. И первый из них, «Бронкская история», отнюдь не исключение. Скорее, даже наоборот, пока это его лучший фильм.\\n\\nВ истории мальчишки из Бронкса, парня-макаронника, нет ничего особенного, из ряда вон выходящего. Он не какой-то там супер-герой. И жизнь вокруг — обычная, будничная. Однако это-то и есть самый настоящий талант — не выдумывать какую-то, не существующую жизнь, а уметь видеть настоящую, но так ясно и так глубоко, как не видят ее другие. И вместе с тем уметь показать ее так этим другим.\\nКроме всего прочего, в картине есть момент, поистине гениальный. Если бы он составлял ее единственное достоинство, то и ради него одного стоило бы смотреть «Бронкскую историю» и рекомендовать ее другим.',\n",
       " 'Название: Крестный отец 2. Отзыв: Каждый входит в число лучших американских фильмов. Роберт де Ниро, говоривший весь фильм только по-итальянски, получил первого Оскара за роль молодого Вито. Он играет его полным достоинства и следующим своему коду чести человеком, трудолюбивым, любящим и преданным отцом и мужем, который нe остановится ни перед чем, чтобы сделать свою семью счастливой — так, как он видит счастье.',\n",
       " 'Название: Крестный отец 2. Отзыв: Нельзя не упомянуть важнейшую составляющей триумфа КО2 — актёрский состав и актёрские работы, которые должны изучаться студентами актёрского мастерства, мечтающими стать не звёздами, но АРТИСТАМИ. Аль Пачино был в расцвете таланта в 1970х годах, что и отмечено четырьмя подряд оскаровскими номинациями (1973—1976). Так вот, Майкл Корлеоне в КО2 -это его мастер-класс. Я не поклонница поздних работ Пачино, включая его наконец-то отмеченную статуэткой работу в фильме «Запах Женщины». Он много кричит, он переигрывает, но все крики и рыки не скажут больше, чен один безмолвный и бесконечный взгляд, в сцене празднования Нового Года в Гаване, во время которого его лицо действительно темнеет на наших глазах. Так разбиваются сердца. Джон Казале (Фредо), разбивший серце Майклу и нам зрителям своей трагически короткой творческой жизнью, в которой он успел сыграть всего лишь в пяти фильмах, но каких! Каждый входит в число лучших американских фильмов. Роберт де Ниро, говоривший весь фильм только',\n",
       " 'Название: Славные парни. Отзыв: Джими. Я уже видел столько фильмов с участием Роберта Де Ниро, что казалось бы удивляться нечему. Этот актёр превосходно показывал самые разные образы, от комедий до сильных драм. И, тем не менее, Роберт удивляет. Он полностью раскрывается в фильме. Его персонаж — это гангстер со стажем, который задействовал себя во всех сферах криминальной жизни общества. Его предпочтение — это ограбления, однако, если потребуется, он способен на всё, в том числе и на убийство.']"
      ]
     },
     "execution_count": 306,
     "metadata": {},
     "output_type": "execute_result"
    }
   ],
   "source": [
    "context.split(' ; ')"
   ]
  },
  {
   "cell_type": "markdown",
   "id": "f4ce4144",
   "metadata": {},
   "source": [
    "Let's try some other questions."
   ]
  },
  {
   "cell_type": "code",
   "execution_count": 312,
   "id": "aaa58b4f-ff9d-4ddd-92f5-7856c0d70d66",
   "metadata": {},
   "outputs": [
    {
     "name": "stdout",
     "output_type": "stream",
     "text": [
      "Фильм \"Титаник\" выиграл наибольшее количество Оскаров - 11.\n"
     ]
    }
   ],
   "source": [
    "query = 'Какой фильм выиграл больше всего оскаров?'\n",
    "answer, context = predict(query)\n",
    "\n",
    "print(answer)"
   ]
  },
  {
   "cell_type": "code",
   "execution_count": 313,
   "id": "c4343c81-a9b4-428e-a785-25a3bf4bd790",
   "metadata": {},
   "outputs": [
    {
     "data": {
      "text/plain": [
       "['Название: Амадей. Отзыв: Шикарные декорации, потрясающая музыка, отличная актерская игра, прекрасный сценарий оставляют просто великолепные ощущения после просмотра данного киношедевра. Да и 8 «Оскаров» и 3 номинации говорят сами за себя. \\n\\nОдин из наиболее успешных фильмов в истории Киноакадемии. Браво Милош Форман, браво актеры, браво Моцарт!',\n",
       " 'Название: Король говорит!. Отзыв: После абсолютно немотивированных главных победителей «Оскара» последних двух лет — «Миллионера из трущоб» и «Повелителя бури» — объявления победителя 2011 года я ждал с изрядной долей опасения. К счастью, опасения оказались напрасными: посмотрев позднее фильм «Король говорит!» я, по крайней мере, могу понять логику рассуждений американских киноакадемиков и согласиться что лента об английском монархе — фильм достойный и стал лучшим по праву. Хотя, признаюсь, я больше бы обрадовался триумфу умного, психологически тонкого «Начала» Кристофера Нолана или простой, но вместе с тем гениальной в своей простоте «Железной хватки» братьев Коэнов. Кстати, последние в последние (простите за тавтологию) годы снимают очень интересные, качественные фильмы, вот и прошлый «Оскар» за лучший фильм я бы вполне мог отдать их «Серьезному человеку».',\n",
       " 'Название: 12 разгневанных мужчин. Отзыв: Кстати фильм который часто попадает в различные рейтинги и кинотопы лучших (естественно это о «12 разгневанных мужчинах») в свое время был удостоен всего лишь 3 номинаций на Оскар (фильм, режиссер, адаптированный сценарий) но ничего не получил так как проиграл «Мосту через реку Квай».\\n\\n8 из 10',\n",
       " 'Название: Титаник. Отзыв: Ещё с интересом узнал о количестве номинаций фильма. Ведь по правилам «Оскара», любой фильм может рассчитывать максимум на 14 из большего числа наличествующих номинаций. Предыдущий результат был только у одного фильма — «Всё о Еве», но только с результатом в 6 статуэток. По «Золотым глобусам» и MTV в 1998м фильм также обошёл конкурентов. А вот с английской BAFTA получилось какое-то недоразумение. Из 10-и номинаций — ничего. Видимо, для британцев это была «очередная история от американского режиссёра „Терминатора“ и „Правдивой лжи“». Впрочем, подобная ситуация была и у третьего «Властелина колец». Ну, американцы на «Оскаре», «Глобусе» и MTV восстанавливают справедливость!\\n\\nФильм, ознаменовавший веху в истории мирового кино.\\n\\n10 из 10',\n",
       " 'Название: Форрест Гамп. Отзыв: «Форрест Гамп» имел огромный успех и получил 6 Оскаров, в том числе: за «Лучший фильм», за «Лучшую режиссуру», за «Лучшую мужскую роль», за «Лучшие визуальные эффекты», за «Лучший монтаж» и за «Лучший адаптированный сценарий». Форрест Гамп не оставил шанса на победу Квинтону Тарантино с его блестящей хипповой чёрной комедией «Криминальное чтиво» и ещё одному бесспорному фавориту, «Побегу из Шоушенка» Фрэнка Дарабонта, экранизации повести Стивена Кинга. Я думаю, в этом одна из причин, отчего после-оскаровская судьба Форреста в какой-то мере противоречива.',\n",
       " 'Название: Король говорит!. Отзыв: «Король говорит!» — один из немногих фильмов, с чьими наградами, с похвалами в чей адрес я согласна. Это действительно картина на века. Он стала таковой под руководством Тома Хупера, и, даже если он вообще ничего не снимет больше, он достоин всех наград мира за один этот фильм. Я признаюсь, что, когда Сандра Баллок объявила Колина Ферта как победителя в номинации «Лучший актер», я пережила вместе с ним этот триумф. А каким будет Лучший фильм 2011 года, я и не сомневалась. Я не хочу сказать, что конкурентов у него не было в плане зрелищности. Конкурентов не было в плане всего остального — актерской игры, режиссуры и сценария. Какой еще из заявленных кандидатов мог соперничать с «Королевской речью» (именно таково оригинальное название фильма)?! Я радовалась за Тома Хупера, Колина Ферта, Хелену Бонэм-Картер, Джеффри Раша, Александра Деспла и всех тех, кто вложил частицу своего таланта в этот фильм. И пусть завистники назовут результат Оскара 2011 предсказуемым, а победу британской ленты',\n",
       " 'Название: Титаник. Отзыв: Надо сказать, что 11 Оскаров взялось вовсе не от популярного названия, ибо это был уже далеко не первый фильм о великой трагедии. На этот фильм были потрачены огромные средства, но собрал этот фильм самую большую кассу в истории. Режиссер Джеймс Кэмерон смог побить собственный рекорд только сняв в 2009 году фильм «Аватар». И кассовые сборы возникли не на пустом месте. Я бы и сейчас с удовольствием сходил бы в кино на этот гениальный фильм.\\n\\nФильм пронизывает тебя насквозь. Не хочется искать какие-то недостатки. Ляпы, которые изначально вовсе не бросаются в глаза, совершенно не портят впечатления от картины! Мы видим огромный корабль, на котором мечтали оказаться, безусловно, миллионы человек… И потом эти миллионы будут Бога благодарить за то, что эта их глупая, изначально греховная мечта — не сбылась. Понимая все это, под гениальную песню «My heart will go on» в титрах — сложно сдержать слезы.',\n",
       " 'Название: Король говорит!. Отзыв: Я был уверен на 99 процентов, что данный фильм победит сразу в нескольких номинациях на премию «Оскар». Собственно так и произошло. Четыре премии «Оскар» получил фильм «Король говорит!» И конечно же самой главной победой этого фильма является победа в номинации «Лучший фильм». Я хочу поздравить Тома Хупера за победу в номинации «Лучший режиссёр». Конечно же я рад за Колина Фёрта. Рад, что он получил Оскар за «Лучшую главную мужскую роль». И я поздравляю Дэвида Сайдлера, который одержал победу в номинации «Лучший оригинальный сценарий».\\n\\nНу а мне остается только поставить оценку. И этой оценкой будет, конечно же…\\n\\n10 из 10\\n\\nБраво!',\n",
       " 'Название: Форрест Гамп. Отзыв: Фильм заслуженно победил в шести номинациях на Оскар, это поистине один из лучших фильмов Голливуда, который можно будет смотреть и через двадцать лет, а фильм будет все так же интересен! \\n\\n10 из 10',\n",
       " 'Название: Малышка на миллион. Отзыв: К большинству фильмов в Голливуде, которые в последнее время получают больше всего Оскаров за год, я отношусь поначалу скептически. Почему? Да потому что в наших широтах эти фильмы почему-то остаются без должного внимания — их смотрят мало да и «крутят» их уже после того, как им вручили высшую награду. Но, оказывается, эти фильмы воистину достойны просмотра и высших наград «киноакадемий». Вот яркий пример — фильм «Малышка на миллион», лауреат 4 премий «Оскар», включая «Лучший фильм 2004 года». Режиссером фильма (а заодно и исполнителем главной роли) выступил всем известный актер и режиссер Клинт Иствуд, чьи фильмы уже не раз попадали в претенденты на «Оскар».']"
      ]
     },
     "execution_count": 313,
     "metadata": {},
     "output_type": "execute_result"
    }
   ],
   "source": [
    "context.split(' ; ')"
   ]
  },
  {
   "cell_type": "markdown",
   "id": "9fc36842-35ad-4185-84fa-545d521c95d3",
   "metadata": {},
   "source": [
    "Here the model answered \"Titanic\". Among all movies in context, this one had the most amount of Oscars."
   ]
  },
  {
   "cell_type": "markdown",
   "id": "2d7e02f8",
   "metadata": {},
   "source": [
    "Thanks to prompt, the model does not answer a question if the context does not have the right information!"
   ]
  },
  {
   "cell_type": "code",
   "execution_count": 232,
   "id": "c292e4ee-0fe0-4d3e-af26-20e666b4bcea",
   "metadata": {},
   "outputs": [],
   "source": [
    "query = 'Сколько лет Тому Холланду?'\n",
    "answer, context = predict(query)"
   ]
  },
  {
   "cell_type": "code",
   "execution_count": 233,
   "id": "b49f761c-55ee-41ea-91df-19394e1be415",
   "metadata": {},
   "outputs": [
    {
     "data": {
      "text/plain": [
       "'Извините, но я не могу предоставить вам информацию об возрасте Тома Холланда, так как все отзывы, которые вы указали, относятся к другим фильмам и не содержат информации о его возрасте.'"
      ]
     },
     "execution_count": 233,
     "metadata": {},
     "output_type": "execute_result"
    }
   ],
   "source": [
    "answer"
   ]
  },
  {
   "cell_type": "code",
   "execution_count": 234,
   "id": "1b16fdf5-6599-46c4-88fc-6908facfec45",
   "metadata": {},
   "outputs": [
    {
     "data": {
      "text/plain": [
       "['Название: Гран Торино, отзыв: Спросите у себя — сколько вы знаете режиссеров, способных снимать по два фильма в год? Сколько вы знаете режиссеров, способных снимать по два фильма в год, которые с легкостью претендуют в «топ-20 года». Сколько должно быть лет такому режиссеру? Клинту Иствуду уже семьдесят восемь, но его работоспособности позавидует любой начинающий режиссер, готовый трудиться годами без сна.',\n",
       " 'Название: Начало, отзыв: И на закуску из мужчин я оставила Тома Харди. Тут ооо и только ооо. Потом я очнулась и стала следить за тем, как он играет. Вообще, появившись в костюме какого-то местного клоуняки или назовём этот образ — первый парень на селе — я недоверчиво покрутила головой. Потом гляжу — мой мальчик таки выбился в большое кино к 32 годам. Успех. Отменно отыграл и причём реально большую роль, показав, что способен быть и самостоятельным экшн-героем. Я у экрана просто сходила с ума. Хорошо, что хоть выла тихонько, а не в полную силу.\\n\\nБарышни тоже не подкачали. Пейдж, если не брать в расчет её походку «ковбойша, высланная из Мексики, где 20 лет скакала без минуты отдыха», замечательна. Глаза невероятно пронзительны, да и смотрится органично. Котийар как раз из той породы женщин, которые становятся роковыми. И тут парадокс — тоже убедительна.',\n",
       " 'Название: Укрощение строптивого, отзыв: -сколько тебе лет?\\n-25\\n-тебе столько не дашь\\n-конечно\\n-я думал 26\\n\\nОдним словом, советую всем посмотреть этот фильм, уверена, что не пожалеете\\n\\nА фильму\\n\\n10 из 10',\n",
       " 'Название: Поймай меня, если сможешь, отзыв: И в очередной раз я преклоняю голову перед Стивеном Спилбергом и всей его командой. Фильм на мой взгляд получился шедевром, ну раз над ним работали люди, знающие толк в своём деле.\\n\\nВо — первых, потрясающая режиссура. Спилберг на столько точно передал внутренний мир главного героя, что его радости и беды отражаются и на наших чувствах.\\n\\nВо — вторых, изумительная игра актёров. Леонардо ДиКаприо, Том Хэнкс, Кристофер Уокен и другие звёзды этого фильма заслуживают высоких похвал в свой адрес. Лео отлично сыграл мошенника, подростка, заключённого и т. д. Сколько ему лет было в начале фильма? 17? А сколько в конце? Совсем не просто сыграть одного и того же человека в разных возрастах.\\n\\nКристофер Уокен показал нам успешного человека, у которого было всё: большой дом, шикарная машина, красавица жена. Но в итоге он потерял всё, что имел и берёг.\\n\\nТом Хэнкс одел маску того, который готов пожертвовать всем, что у него есть, лишь бы поймать мошенника.',\n",
       " 'Название: Шерлок Холмс, отзыв: Образ лондонского сыщика изменился до неузнаваемости. Даже его внешний вид и наряд изменились. Теперь Холмс не в возрасте и его гениальность не кажется мудростью, появившейся после стольких лет жизни. Нет, Шерлоку образца 2009 года не больше 45 лет и он только начинает бурно жить на экранах. От опрятности его внешнего вида не осталось и следа — герою теперь всё равно в чём выходить на грязные лондонские улицы, забитыми каретами и рабочими. Шляпы на голове только чужие и ворованные. Трубку он курит только иногда, а его рассудительность сменилась юмором бесчувственного, так сказать, ублюдка. Если раньше Холмс казался в первую очередь хорошим человеком, готовым придти на помощь, то теперь это гениальная личность со множеством странностей, в том числе нелюбовью солнечного света. В его квартире царствует бардак подростка. Чтобы развлечь себя он не играет на скрипке и не читает книг, а пытается изобретать и, что ещё похлеще, идёт набивать морды в нелегальные кулачные бои со ставками. Его']"
      ]
     },
     "execution_count": 234,
     "metadata": {},
     "output_type": "execute_result"
    }
   ],
   "source": [
    "context.split(' ; ')"
   ]
  },
  {
   "cell_type": "markdown",
   "id": "6c7082a4-3e70-4c8c-9d50-46421b87625e",
   "metadata": {},
   "source": [
    "## Multi-Query\n",
    "\n",
    "Let's try to broaden the context by adding paraphrased questions.\n",
    "\n",
    "<img src=\"https://4.downloader.disk.yandex.ru/preview/01a5d4071ab3986558f902e40f948e6f09340eb403f5dcfebf538dc160c02876/inf/XjsYIV3dwpNS9wBGWwcq8TGxcV_7jDFT8GesvBQhzWOil1U3gBaVHRdEfVM6JUOFdc7htSKOy2Na7VPYMjW95g%3D%3D?uid=676720824&filename=multi-query.png&disposition=inline&hash=&limit=0&content_type=image%2Fpng&owner_uid=676720824&tknv=v2&size=3024x1688\" alt=\"drawing\" width=\"550\"/>\n",
    "\n",
    "For paraphrasing, we will use the same model we use to generate the text, but with a new prompt."
   ]
  },
  {
   "cell_type": "code",
   "execution_count": 1,
   "id": "7ac46853-54ba-4da7-857c-31675271b28d",
   "metadata": {},
   "outputs": [],
   "source": [
    "import re\n",
    "\n",
    "def rephrase_query(query, n=3):\n",
    "    prompt = f\"\"\"\n",
    "Твоя задача написать {n} разных вариаций вопроса пользователя для того,\n",
    "чтобы по ним получить релевантные документы из векторной базы данных.\n",
    "Ты должен переформулировать вопрос с разных точек зрения.\n",
    "Это поможет избавить пользователя от недостатков поиска похожих документов на основе расстояния.\n",
    "Вопрос пользователя сфокусирован на теме кино.\n",
    "Напиши ТОЛЬКО вариации вопроса и больше ничего, разделяя их символом новой строки \\\\n.\n",
    "НЕ пиши ответ на сам вопрос.\n",
    "-----------------\n",
    "{query}\n",
    "\n",
    "\"\"\"\n",
    "    messages = [\n",
    "        {\"role\": \"user\", \"content\": prompt},\n",
    "    ]\n",
    "    output = generation_pipeline(messages, max_new_tokens=512, do_sample=True, temperature=0.9, top_p=0.7)\n",
    "    queries = output[0]['generated_text'][1]['content']\n",
    "\n",
    "    return re.split(r'\\n+', queries)\n",
    "\n",
    "def predict(query):\n",
    "    queries = rephrase_query(query, n=3)\n",
    "\n",
    "    all_chunks = []\n",
    "    for rephrased_query in queries:\n",
    "        selected_chunks = semantic_search(client, rephrased_query, limit=5)\n",
    "        all_chunks.extend(selected_chunks)\n",
    "\n",
    "    context = [f\"Название: {chunk['movie_name']}. Отзыв: {chunk['text']}\" for chunk in all_chunks]\n",
    "\n",
    "    context = ' ; '.join(np.unique(context))\n",
    "\n",
    "    answer = llm_answer(query, context)\n",
    "\n",
    "    return answer, context, queries"
   ]
  },
  {
   "cell_type": "code",
   "execution_count": 321,
   "id": "e1185139-feb4-46bd-a642-687db89becc3",
   "metadata": {},
   "outputs": [],
   "source": [
    "query = 'Посоветуй легкую комедию'\n",
    "answer, context, queries = predict(query)"
   ]
  },
  {
   "cell_type": "code",
   "execution_count": 322,
   "id": "6aa8a30b-2ae4-4362-900c-1643eb2d2fef",
   "metadata": {},
   "outputs": [
    {
     "name": "stdout",
     "output_type": "stream",
     "text": [
      "На основе представленных отзывов и их обобщения, могу предложить следующие легкие и комедийные фильмы:\n",
      "\n",
      "1. \"Любовь и голуби\". Этот фильм, написанный автором Лайонелом Купером, часто называют лучшей работой этого режиссера. Он известен своим уникальным юмором и легкостью в рассказе истории.\n",
      "\n",
      "2. \"Бриллиантовая рука\". Этот фильм стал культовым благодаря своей неожиданной исторической реальностью и оригинальным персонажам.\n",
      "\n",
      "3. \"Пролетая над гнездом кукушки\". Это фильм-триллер с увлекательной историей, где актеры показывают себя в самых разных профессиях.\n",
      "\n",
      "4. \"Рататуй\". Этот фильм - это настоящая шутка, и его создатели стремятся удивить вас всеми возможными способами.\n",
      "\n",
      "5. \"Семь жизней\". Этот фильм, как правило, считается наиболее серьезным и серьезным в репертуаре кинематографиста Эмилии Грант.\n",
      "\n",
      "Однако, стоит отметить, что многие люди могут найти фильм \"Обитаемый остров\" очень веселым и забавным, особенно если они предпочитают комедию.\n",
      "\n",
      "Также важно помнить, что каждый человек имеет свои предпочтения и любимые фильмы, поэтому оценка каждого фильма будет индивидуальной и зависит от личного восприятия каждого конкретного человека.\n"
     ]
    }
   ],
   "source": [
    "print(answer)"
   ]
  },
  {
   "cell_type": "markdown",
   "id": "328eb8cb",
   "metadata": {},
   "source": [
    "The quality of Multi-Query depends a lot on the LLM's ability to paraphrase the text. If it does this poorly, irrelevant queries will appear. This can be fixed by adding filtering on the relevance of the input query."
   ]
  },
  {
   "cell_type": "code",
   "execution_count": 323,
   "id": "c6648e04-6ea8-43dc-bb97-790eba858306",
   "metadata": {},
   "outputs": [
    {
     "data": {
      "text/plain": [
       "['Попробуйте рассмотреть следующие варианты вопроса:',\n",
       " '1) \"Существуют ли любые фильмы-комедии, которые можно описать как легкие?\"',\n",
       " '2) \"Чем могу заняться, чтобы найти фильм-комедию без особого труда?\"',\n",
       " '3) \"Какие из популярных фильмов-комедий считаются наиболее легкими?\"']"
      ]
     },
     "execution_count": 323,
     "metadata": {},
     "output_type": "execute_result"
    }
   ],
   "source": [
    "queries"
   ]
  },
  {
   "cell_type": "code",
   "execution_count": 324,
   "id": "144652b2-f690-4974-843c-4c3faa9005b6",
   "metadata": {},
   "outputs": [
    {
     "data": {
      "text/plain": [
       "['Название: Бойцовский клуб. Отзыв: пересматривая который можно открыть что-то новое и каждый раз задумываясь о просмотренном?Или это всего лишь фильм на определенное время, удачно подвернувшийся когда надо?',\n",
       " 'Название: Братц. Отзыв: Советую посмотреть. \\n\\n\\n\\n6 из 10',\n",
       " 'Название: Бриллиантовая рука. Отзыв: Что можно еще добавить? Разве только то, что когда слышишь название этого фильма, или одну из множества цитат, на которые буквально порвали ленту — сразу же начинаешь улыбаться. А на душе становится легко и весело. \\n\\nТак нужны ли иные критерии оценки фильма?',\n",
       " 'Название: В джазе только девушки. Отзыв: Очаровательный фильм! Такой и должна быть классическая комедия: интересной, игривой и легкой, как бизе!',\n",
       " 'Название: В джазе только девушки. Отзыв: любят погорячее») отличается, лёгким и беззаботным юмором, этот фильм можно смотреть в любом возрасте, в любом настроении, совершенно разным людям.',\n",
       " 'Название: Любовь и голуби. Отзыв: И самое главное герои фильма отвечают на эти вопросы. Смешно, но поучительно!',\n",
       " 'Название: Начало. Отзыв: Ну и в итоге вопрос — за что оценку то ставить? ладно, попробую…\\n\\n1 из 10',\n",
       " 'Название: Обитаемый остров. Отзыв: Не хочу ставить оценки, но по-моему сходить на фильм стоит, просто чтобы улыбнуться, тихой такой доброй улыбкой.',\n",
       " 'Название: Одиннадцать друзей Оушена. Отзыв: У меня есть несколько вопросов.\\n\\n1) Жанр. Попытки совместить комедию, криминальную драму, триллер, боевик и т. д. явление повсеместное в современном кино, но в каждой цельной ленте должен просматриваться какой-то жанровый вектор, а остальное — лишь украшение. Здесь же: для комедии — не смешно, лишь местами забавно, для драмы — предсказуемо хэппиэндово, для криминала — слишком розово, для триллера — ну уж совсем ни в какие ворота…',\n",
       " 'Название: Пролетая над гнездом кукушки. Отзыв: ответа, но него можно ответить самому. Но чтобы выбрать путь ответа, надо сначала понять вопрос, который можно уяснить лишь посмотрев эту картину!',\n",
       " 'Название: Рататуй. Отзыв: А просмотрев фильм до конца, задайте себе вопрос, чтобы сделали вы, испробовав замечательное блюдо с незабываемым вкусом, вернувшим вашей душе состояние покоя и безмятежности, узнали, что его приготовила крыса!?',\n",
       " 'Название: Реальная любовь. Отзыв: Начнём разбор полётов:',\n",
       " 'Название: Семь жизней. Отзыв: Хотя здесь может быть больше подошло бы слово «привычнее», ведь большинство современных фильмов не допускают строгого деления на «чёрное» и «белое».',\n",
       " 'Название: Форрест Гамп. Отзыв: Но одна мысль меня волновала после всех этих рассуждений: является концовка фильма хэппи-эндом?',\n",
       " 'Название: Шерлок Холмс. Отзыв: 8 из 10 Так как это тот фильм, который притягивает к себе своими комедийными моментами.',\n",
       " 'Название: Шерлок Холмс. Отзыв: Оценка — 6 из 10']"
      ]
     },
     "execution_count": 324,
     "metadata": {},
     "output_type": "execute_result"
    }
   ],
   "source": [
    "context.split(' ; ')"
   ]
  },
  {
   "cell_type": "markdown",
   "id": "bc1d42c9-4e28-4a7d-b8e6-b3222df443da",
   "metadata": {},
   "source": [
    "## Filters\n",
    "\n",
    "For some types of queries, you can add filters to prevent documents that do not fit into the context. For example, we want to find out something about movies from the particular year. If such information is not in the review itself, we can't utilize it in a semantic search."
   ]
  },
  {
   "cell_type": "code",
   "execution_count": 345,
   "id": "93c7feb8-1da1-4ccd-b48b-c8f4291553d8",
   "metadata": {},
   "outputs": [],
   "source": [
    "def predict(query):\n",
    "    selected_chunks = semantic_search(client, query, limit=10)\n",
    "    context = ' ; '.join([\n",
    "        f\"Название: {chunk['movie_name']}. Отзыв: {chunk['text']}\"\n",
    "        for chunk in selected_chunks])\n",
    "\n",
    "    return llm_answer(query, context), context"
   ]
  },
  {
   "cell_type": "code",
   "execution_count": 364,
   "id": "6dc54765-0dca-45d6-a225-081699380127",
   "metadata": {},
   "outputs": [],
   "source": [
    "query = 'Составь список пяти лучших мелодрам 1980-х годов'\n",
    "answer, context = predict(query)"
   ]
  },
  {
   "cell_type": "code",
   "execution_count": 365,
   "id": "df7d67f2-f861-445b-8090-65bb964dcdd7",
   "metadata": {},
   "outputs": [
    {
     "name": "stdout",
     "output_type": "stream",
     "text": [
      "Список пяти лучших мелодрам 1980-х годов:\n",
      "\n",
      "1. \"Привидение\" (The Ghosts of Christmas Past, Present and Future) - Этот фильм, написанный Ричардом Лоренсом, стал классикой 80-х. Он имеет простую сюжетку о двух младших братах, которые пытаются открыть секреты своего отца, которого они знают лишь по его фотографиям.\n",
      "\n",
      "2. \"Крамер против Крамера\" (Cramer vs Kramer) - Это комедийный фильм, основанный на реальных событиях. Фильм рассказывает историю молодого мужчины, который вынужден разделить обязанности с матерью своей дочери, которая не хочет видеть его после развода.\n",
      "\n",
      "3. \"Клуб 'Завтрак'\" (Club Med) - Этот фильм является комедией с элементами драмы. Он рассказывает о группе друзей, которые вместе проводят выходные в клубе \"Завтрак\".\n",
      "\n",
      "4. \"Дневник памяти\" (Memoirs of a Geisha) - Этот фильм представляет собой историю о девочки, которая живет в Японии и становится проституткой. Фильм также показывает ее отношения с другим девушкой.\n",
      "\n",
      "5. \"Звездный десант 3 Мародер\" (Starship Troopers 3: Marauder) - Этот фильм является боевым фильмом с элементами фантастики и научной фантастики. Он рассказывает историю о военных, которые отправляются на планету, где люди живут среди насекомых.\n"
     ]
    }
   ],
   "source": [
    "print(answer)"
   ]
  },
  {
   "cell_type": "markdown",
   "id": "cef37e30-1dcc-4e22-bd98-b24c6333e608",
   "metadata": {},
   "source": [
    "В этом примере модель сгенерировала не только не мелодрамы, но и фильмы неверных лет. Заметьте, что в годах присутствуют галлюцинации."
   ]
  },
  {
   "cell_type": "code",
   "execution_count": 366,
   "id": "9c7028b2-4c13-4c7b-a5bf-b195ad1b1991",
   "metadata": {},
   "outputs": [],
   "source": [
    "def filtered_semantic_search(client, query, filter_years, limit=10):\n",
    "    query_vector = embedding_model.encode(\n",
    "        query, normalize_embeddings=True, device=device\n",
    "    ).tolist()\n",
    "\n",
    "    begin, end = filter_years\n",
    "    hits = client.search(\n",
    "        collection_name=\"kinopoisk_e5\",\n",
    "        query_vector=query_vector,\n",
    "        limit=limit,\n",
    "        query_filter=models.Filter(\n",
    "            must=[models.FieldCondition(key=\"year\", range=models.Range(gte=begin, lte=end))]\n",
    "        ),\n",
    "    )\n",
    "    relevant_chunks = [hit.payload for hit in hits]\n",
    "\n",
    "    return relevant_chunks\n",
    "\n",
    "def predict(query, filter_years=None):\n",
    "    if filter_years is not None:\n",
    "        selected_chunks = filtered_semantic_search(client, query, filter_years=filter_years, limit=10)\n",
    "    else:\n",
    "        selected_chunks = semantic_search(client, query, limit=10)\n",
    "\n",
    "    context = ' ; '.join([f\"Название: {chunk['movie_name']}. Отзыв: {chunk['text']}\" for chunk in selected_chunks])\n",
    "\n",
    "    return llm_answer(query, context), context"
   ]
  },
  {
   "cell_type": "code",
   "execution_count": 367,
   "id": "ebd4f53d-5c3d-41d6-9cfa-9ebcd3ce9f40",
   "metadata": {},
   "outputs": [],
   "source": [
    "answer, context = predict(query, filter_years=(1980, 1989))"
   ]
  },
  {
   "cell_type": "code",
   "execution_count": 368,
   "id": "f284974c-2d89-48b7-b95d-36161ac48d89",
   "metadata": {},
   "outputs": [
    {
     "name": "stdout",
     "output_type": "stream",
     "text": [
      "Список пяти лучших мелодрам 1980-х годов:\n",
      "\n",
      "1. \"Клуб 'Завтрак'\"\n",
      "2. \"Ганди\"\n",
      "3. \"Назад в будущее 2\" \n",
      "4. \"Назад в будущее\"\n",
      "5. \"Однажды в Америке\"\n",
      "\n",
      "Эти фильмы отличаются своими уникальными сюжетами, великолепными актерскими играми, драматическими моментами и замечательным саундтреком. Каждый из них имеет свою уникальную историю, которая может вызвать волну эмоций у зрителя.\n"
     ]
    }
   ],
   "source": [
    "print(answer)"
   ]
  },
  {
   "cell_type": "markdown",
   "id": "35fed6d7",
   "metadata": {},
   "source": [
    "Note that although all the films got the right year, almost all of them aren't melodramas."
   ]
  }
 ],
 "metadata": {
  "kernelspec": {
   "display_name": "Python 3 (ipykernel)",
   "language": "python",
   "name": "python3"
  },
  "language_info": {
   "codemirror_mode": {
    "name": "ipython",
    "version": 3
   },
   "file_extension": ".py",
   "mimetype": "text/x-python",
   "name": "python",
   "nbconvert_exporter": "python",
   "pygments_lexer": "ipython3",
   "version": "3.12.6"
  }
 },
 "nbformat": 4,
 "nbformat_minor": 5
}
