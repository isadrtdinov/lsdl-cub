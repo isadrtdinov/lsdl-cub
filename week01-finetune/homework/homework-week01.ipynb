{
 "cells": [
  {
   "cell_type": "markdown",
   "id": "98eefa05",
   "metadata": {},
   "source": [
    "# LSDL CUB, Homework 1. Robust fine-tuning of CLIP [10 pts]\n",
    "\n",
    "Your main goal in this home assignment is to implement the [Lipsum-FT](https://openreview.net/attachment?id=2JF8mJRJ7M&name=pdf) method for robust fine-tuning of CLIP.\n",
    "\n",
    "Rules for the assignment:\n",
    "\n",
    "- We will be using the same dataset, [DomainNet](https://ai.bu.edu/M3SDA/) (also can be found [here](https://huggingface.co/datasets/wltjr1007/DomainNet)), as in the original paper. Use the **Real** domain as in-distribution (ID) data and the rest of domains as out-of-distribution (OOD) data. Use the **Real** train split for training and test splits for evaluation on all of the domains.\n",
    "\n",
    "- If training takes too much time, you may select a subset (i.e., 50% or 33%) of training data instead of the full split.\n",
    "\n",
    "- `ViT-B/16` backbone is recommended.\n",
    "\n",
    "- In order to **pass the assignment**, you need to plot a Pareto front (i.e., ID-OOD plot like Figure 1 from this [paper](https://arxiv.org/pdf/2109.01903)). We will be using 5 OOD domains, so you need to plot 5 Pareto fronts, one for each distribution shift.\n",
    "\n",
    "- You may use any code from the [seminar](https://github.com/isadrtdinov/lsdl-cub/tree/main/week01-finetune/seminar). Also, you may code your training pipelines either in pure PyTorch or combinine it with [huggingface](https://huggingface.co/) libraries. Additionally, you may find [`clip`](https://github.com/openai/CLIP) and [`wise-ft`](https://github.com/mlfoundations/wise-ft) repos useful.\n",
    "\n",
    "- Do not use the implemention from the authors or any publicly available implementations of this method.\n",
    "\n",
    "- It will be much easier to check your assigment if you maintain a clear code structure (e.g., put different blocks of code into separate files, add necessary coments, etc)."
   ]
  },
  {
   "cell_type": "markdown",
   "id": "8568a105",
   "metadata": {},
   "source": [
    "## 1. Zero-shot model [1 pts]\n",
    "\n",
    "Create a zero-shot model on top of pre-trained CLIP and evaluate it on **Real** test set (ID accuracy) and on 5 distribution shifts: **Clipart**, **Infograph**, **Painting**, **Quickdraw**, **Sketch** (OOD accuracy)."
   ]
  },
  {
   "cell_type": "code",
   "execution_count": null,
   "id": "33153ef9",
   "metadata": {},
   "outputs": [],
   "source": [
    "# YOUR SOLUTION HERE (⊃｡•́‿•̀｡)⊃━✿✿✿✿✿✿"
   ]
  },
  {
   "cell_type": "markdown",
   "id": "59735c0f",
   "metadata": {},
   "source": [
    "## 2. Regular fine-tuning [2 pts]\n",
    "\n",
    "Now, fine-tune the whole image encoder on the **Real** train split. Use the zero-shot classification head as an initialization for the last linear layer. Calculate ID and OOD accuracy of this model."
   ]
  },
  {
   "cell_type": "code",
   "execution_count": null,
   "id": "9b800e9a",
   "metadata": {},
   "outputs": [],
   "source": [
    "# YOUR SOLUTION HERE (⊃｡•́‿•̀｡)⊃━✿✿✿✿✿✿"
   ]
  },
  {
   "cell_type": "markdown",
   "id": "0359f506",
   "metadata": {},
   "source": [
    "## 3. Lipsum-FT [4 pts]\n",
    "\n",
    "Implement the Lipsum-FT method from the [paper](https://openreview.net/attachment?id=2JF8mJRJ7M&name=pdf). You may use the hyperparameters from the paper. Calculate ID and OOD accuracy of this model."
   ]
  },
  {
   "cell_type": "code",
   "execution_count": null,
   "id": "bcd025c0",
   "metadata": {},
   "outputs": [],
   "source": [
    "# YOUR SOLUTION HERE (⊃｡•́‿•̀｡)⊃━✿✿✿✿✿✿"
   ]
  },
  {
   "cell_type": "markdown",
   "id": "c748876c",
   "metadata": {},
   "source": [
    "## 4. WiSE-FT [1.5 pts]\n",
    "\n",
    "Create a [weight-space ensemble](https://arxiv.org/pdf/2109.01903) for an ordinary fine-tuned model. Calculate ID and OOD accuracy of this model."
   ]
  },
  {
   "cell_type": "code",
   "execution_count": null,
   "id": "2698d628",
   "metadata": {},
   "outputs": [],
   "source": [
    "# YOUR SOLUTION HERE (⊃｡•́‿•̀｡)⊃━✿✿✿✿✿✿"
   ]
  },
  {
   "cell_type": "markdown",
   "id": "0554d8ec",
   "metadata": {},
   "source": [
    "## 5. WiSE for Lipsum-FT [1.5 pts]\n",
    "\n",
    "Create a [weight-space ensemble](https://arxiv.org/pdf/2109.01903) for Lipsum-FT model. Calculate ID and OOD accuracy of this model."
   ]
  },
  {
   "cell_type": "code",
   "execution_count": null,
   "id": "4a9cb99b",
   "metadata": {},
   "outputs": [],
   "source": [
    "# YOUR SOLUTION HERE (⊃｡•́‿•̀｡)⊃━✿✿✿✿✿✿"
   ]
  },
  {
   "cell_type": "markdown",
   "id": "e1823972",
   "metadata": {},
   "source": [
    "## Pareto front (ID-OOD plots)\n",
    "\n",
    "Now, when all the methods are trained, put them on a single Pareto front."
   ]
  },
  {
   "cell_type": "code",
   "execution_count": null,
   "id": "a3498396",
   "metadata": {},
   "outputs": [],
   "source": [
    "# YOUR SOLUTION HERE (⊃｡•́‿•̀｡)⊃━✿✿✿✿✿✿"
   ]
  },
  {
   "cell_type": "markdown",
   "id": "03e7d904",
   "metadata": {},
   "source": [
    "## Bonus: Fine-tuning data-efficiency [2 pts]\n",
    "\n",
    "Create a data-efficiency plot similar to Figure 6 from the [CLIP paper](https://arxiv.org/pdf/2103.00020) for the considered fine-tuning methods (regular vs. Lipsum-FT). On the horizontal axis you will have the number of fine-tuning samples per class (in logarithmic scale) and on the vertical axis &mdash; ID accuracy. What conclusions can be drawn about the data-efficiency of these methods?"
   ]
  },
  {
   "cell_type": "code",
   "execution_count": null,
   "id": "ef0b98e8",
   "metadata": {},
   "outputs": [],
   "source": [
    "# YOUR SOLUTION HERE (⊃｡•́‿•̀｡)⊃━✿✿✿✿✿✿"
   ]
  }
 ],
 "metadata": {
  "kernelspec": {
   "display_name": "Python 3 (ipykernel)",
   "language": "python",
   "name": "python3"
  },
  "language_info": {
   "codemirror_mode": {
    "name": "ipython",
    "version": 3
   },
   "file_extension": ".py",
   "mimetype": "text/x-python",
   "name": "python",
   "nbconvert_exporter": "python",
   "pygments_lexer": "ipython3",
   "version": "3.10.4"
  }
 },
 "nbformat": 4,
 "nbformat_minor": 5
}
